{
 "cells": [
  {
   "cell_type": "code",
   "execution_count": null,
   "id": "8ecd7491",
   "metadata": {},
   "outputs": [],
   "source": [
    "# Install dependencies if running for the first time\n",
    "%pip install matplotlib ipywidgets --quiet"
   ]
  },
  {
   "cell_type": "code",
   "execution_count": 18,
   "id": "707f74b8",
   "metadata": {},
   "outputs": [],
   "source": [
    "import matplotlib.pyplot as plt\n",
    "import numpy as np\n",
    "import ipywidgets as widgets\n",
    "from bitbrush import BitBrush"
   ]
  },
  {
   "cell_type": "code",
   "execution_count": 19,
   "id": "b4a85318",
   "metadata": {},
   "outputs": [],
   "source": [
    "brush = BitBrush(width=16)"
   ]
  },
  {
   "cell_type": "code",
   "execution_count": 21,
   "id": "589ada51",
   "metadata": {},
   "outputs": [],
   "source": [
    "def plot_bitpattern_sequence(generator, title=\"Bit Pattern Sequence\"):\n",
    "    \"\"\"\n",
    "    Plots a sequence of bit patterns as a binary image.\n",
    "\n",
    "    Args:\n",
    "        generator (Generator[int]): A generator producing bit patterns.\n",
    "        title (str): Plot title.\n",
    "    \"\"\"\n",
    "    patterns = [brush.visualize(v) for v in generator]\n",
    "    binary_matrix = np.array([[int(b) for b in row] for row in patterns])\n",
    "\n",
    "    plt.figure(figsize=(10, len(patterns) * 0.3))\n",
    "    plt.imshow(binary_matrix, cmap=\"Greys\", interpolation=\"nearest\", aspect=\"auto\")\n",
    "    plt.title(title)\n",
    "    plt.xlabel(\"Bit Index\")\n",
    "    plt.ylabel(\"Step\")\n",
    "    plt.xticks(range(brush.width))\n",
    "    plt.yticks([])\n",
    "    plt.grid(False)\n",
    "    plt.show()"
   ]
  },
  {
   "cell_type": "code",
   "execution_count": 22,
   "id": "d2ba0a2a",
   "metadata": {},
   "outputs": [],
   "source": [
    "def interactive_demo():\n",
    "    op_selector = widgets.Dropdown(\n",
    "        options=[\n",
    "            (\"Sweep Ones\", \"sweep_ones\"),\n",
    "            (\"Sweep Zeros\", \"sweep_zeros\"),\n",
    "            (\"Sparse Toggle\", \"toggle_sparse\"),\n",
    "            (\"Scan Patterns\", \"scan_patterns\")\n",
    "        ],\n",
    "        description='Operation:',\n",
    "        style={'description_width': 'initial'}\n",
    "    )\n",
    "\n",
    "    step_slider = widgets.IntSlider(\n",
    "        value=3, min=1, max=8, step=1, description='Sparse Step:',\n",
    "        style={'description_width': 'initial'}\n",
    "    )\n",
    "\n",
    "    def update_plot(operation, step):\n",
    "        if operation == \"sweep_ones\":\n",
    "            gen = brush.sweep_ones()\n",
    "        elif operation == \"sweep_zeros\":\n",
    "            gen = brush.sweep_zeros()\n",
    "        elif operation == \"toggle_sparse\":\n",
    "            gen = brush.toggle_sparse(step)\n",
    "        elif operation == \"scan_patterns\":\n",
    "            gen = brush.scan_patterns()\n",
    "        else:\n",
    "            gen = []\n",
    "        title = f\"{operation.replace('_', ' ').title()} (step={step})\"\n",
    "        plot_bitpattern_sequence(gen, title)\n",
    "\n",
    "    widgets.interactive(update_plot, operation=op_selector, step=step_slider)\n",
    "\n",
    "interactive_demo()\n"
   ]
  }
 ],
 "metadata": {
  "kernelspec": {
   "display_name": "Python 3",
   "language": "python",
   "name": "python3"
  },
  "language_info": {
   "codemirror_mode": {
    "name": "ipython",
    "version": 3
   },
   "file_extension": ".py",
   "mimetype": "text/x-python",
   "name": "python",
   "nbconvert_exporter": "python",
   "pygments_lexer": "ipython3",
   "version": "3.13.3"
  }
 },
 "nbformat": 4,
 "nbformat_minor": 5
}
