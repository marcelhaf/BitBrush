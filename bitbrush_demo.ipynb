{
 "cells": [
  {
   "cell_type": "code",
   "execution_count": null,
   "id": "8ecd7491",
   "metadata": {},
   "outputs": [],
   "source": [
    "# Install dependencies if running for the first time\n",
    "%pip install matplotlib ipywidgets --quiet"
   ]
  },
  {
   "cell_type": "code",
   "execution_count": null,
   "id": "707f74b8",
   "metadata": {},
   "outputs": [],
   "source": [
    "import matplotlib.pyplot as plt\n",
    "import numpy as np\n",
    "import ipywidgets as widgets\n",
    "import time\n",
    "from bitbrush import BitBrush"
   ]
  },
  {
   "cell_type": "code",
   "execution_count": null,
   "id": "b4a85318",
   "metadata": {},
   "outputs": [],
   "source": [
    "brush_py = BitBrush(width=16, backend=\"python\")\n",
    "brush_np = BitBrush(width=16, backend=\"numpy\")"
   ]
  },
  {
   "cell_type": "code",
   "execution_count": null,
   "id": "589ada51",
   "metadata": {},
   "outputs": [],
   "source": [
    "def time_op(func):\n",
    "    start = time.perf_counter()\n",
    "    result = func()\n",
    "    if isinstance(result, np.ndarray):\n",
    "        _ = result.shape\n",
    "    else:\n",
    "        for _ in result:\n",
    "            pass\n",
    "    return (time.perf_counter() - start) * 1000"
   ]
  },
  {
   "cell_type": "code",
   "execution_count": null,
   "id": "d2ba0a2a",
   "metadata": {},
   "outputs": [],
   "source": [
    "op_dropdown = widgets.Dropdown(\n",
    "    options=[\"sweep_ones\", \"sweep_zeros\", \"toggle_sparse\", \"scan_patterns\"],\n",
    "    description=\"Operation:\"\n",
    ")\n",
    "step_slider = widgets.IntSlider(value=3, min=1, max=8, description=\"Sparse step:\")\n",
    "out = widgets.Output()\n",
    "\n",
    "def update(op, step):\n",
    "    with out:\n",
    "        out.clear_output()\n",
    "        func_py = getattr(brush_py, op)\n",
    "        func_np = getattr(brush_np, op)\n",
    "        gen_py = func_py(step) if op == \"toggle_sparse\" else func_py()\n",
    "        gen_np = func_np(step) if op == \"toggle_sparse\" else func_np()\n",
    "        t_py = time_op(lambda: gen_py)\n",
    "        t_np = time_op(lambda: gen_np)\n",
    "        print(f\"Python backend: {t_py:.2f} ms\")\n",
    "        print(f\"NumPy backend: {t_np:.2f} ms\")\n",
    "\n",
    "widgets.VBox([widgets.HBox([op_dropdown, step_slider]), out])\n",
    "widgets.interactive(update, op=op_dropdown, step=step_slider)\n"
   ]
  }
 ],
 "metadata": {
  "kernelspec": {
   "display_name": "Python 3",
   "language": "python",
   "name": "python3"
  },
  "language_info": {
   "codemirror_mode": {
    "name": "ipython",
    "version": 3
   },
   "file_extension": ".py",
   "mimetype": "text/x-python",
   "name": "python",
   "nbconvert_exporter": "python",
   "pygments_lexer": "ipython3",
   "version": "3.13.3"
  }
 },
 "nbformat": 4,
 "nbformat_minor": 5
}
